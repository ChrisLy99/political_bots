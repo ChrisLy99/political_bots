{
 "cells": [
  {
   "cell_type": "code",
   "execution_count": 47,
   "metadata": {},
   "outputs": [
    {
     "name": "stdout",
     "output_type": "stream",
     "text": [
      "The autoreload extension is already loaded. To reload it, use:\n",
      "  %reload_ext autoreload\n"
     ]
    }
   ],
   "source": [
    "from src.similarity import *\n",
    "%load_ext autoreload\n",
    "%autoreload 2"
   ]
  },
  {
   "cell_type": "code",
   "execution_count": 39,
   "metadata": {},
   "outputs": [],
   "source": [
    "sample_dict = {}\n",
    "size = 100\n",
    "for n in ['a','b','c','d']:\n",
    "    sample_dict[n] = np.random.randint(0, 20, size)"
   ]
  },
  {
   "cell_type": "code",
   "execution_count": 40,
   "metadata": {},
   "outputs": [
    {
     "data": {
      "text/plain": [
       "{'a': array([15,  6,  6, 17,  6, 19, 10, 16, 12,  9, 11, 11,  9,  9,  8,  6, 14,\n",
       "        13,  2,  5,  0, 10,  9, 12,  7,  2, 17,  8,  0, 14,  4,  1,  8, 15,\n",
       "        13,  9,  0,  7, 18,  9,  4, 14,  8,  9, 19,  4, 11, 19, 13,  9,  2,\n",
       "         3, 14, 10, 13, 18, 11, 11, 16,  0,  0, 12, 10,  5, 13,  9,  8,  7,\n",
       "        15, 15, 15,  4, 10,  5, 10,  6,  9, 13,  2,  4, 16,  3,  5, 11,  2,\n",
       "         9, 10,  4, 14,  9, 16, 10,  3, 12, 15,  1,  2,  9,  9,  6]),\n",
       " 'b': array([ 0,  6, 19,  3,  3,  6,  8,  9,  6,  3, 15,  9, 18, 16,  7,  2,  2,\n",
       "        11,  3,  1,  6,  8,  5,  7, 17,  8, 17, 17, 10,  3, 19,  5, 18, 11,\n",
       "         9,  6,  2,  2, 19, 14, 11,  4,  9, 13,  3,  5, 14, 19,  5,  7, 14,\n",
       "         9,  4,  2, 15,  0,  6,  5, 10, 18,  6, 16,  3, 18,  3, 16,  0, 17,\n",
       "         5, 14, 15, 10, 14, 19,  5, 13, 11, 15,  7,  7, 16, 11,  6,  3,  7,\n",
       "        18,  6,  9,  9, 11, 17,  9, 17, 18,  2, 19,  1,  2, 17,  3]),\n",
       " 'c': array([19,  8, 13,  0,  7,  5,  3, 15,  9, 11, 18,  0,  0,  3,  7,  8,  1,\n",
       "         4, 13,  0, 12,  8, 13, 16,  2, 17,  8,  5, 16,  2, 10, 12,  8,  1,\n",
       "        14, 10, 15, 16, 16, 11, 19, 13, 14,  0, 13, 13,  7,  4,  9, 19, 10,\n",
       "         1, 16, 17, 13,  3,  1, 13,  1,  5, 12,  6,  5,  9, 14, 16, 17, 16,\n",
       "        15,  5,  3,  5, 18, 17, 11,  5, 12, 12,  8, 10,  4, 10,  7, 18, 15,\n",
       "         6,  3, 12, 13,  6,  2,  2,  4, 15, 14,  7,  5, 19,  6,  4]),\n",
       " 'd': array([16,  6,  3,  0, 11,  1, 16,  5,  2,  7,  1, 12, 14, 12, 10, 17,  1,\n",
       "         9, 16, 17,  0,  9, 15, 18, 11, 16, 11,  9, 12, 18, 11, 17, 11, 10,\n",
       "        10, 16,  4,  5,  7,  9,  7, 15,  3, 19,  2, 17, 11,  4,  4, 12,  6,\n",
       "        14, 13, 13,  1, 12,  7, 18,  8,  8, 14, 13,  7, 19,  8,  0, 18,  8,\n",
       "        12, 18, 18,  9,  0, 19, 19,  4,  7, 12, 14,  7, 11,  3, 11,  9,  0,\n",
       "        19,  5, 19, 16, 17, 14, 10, 18,  1,  4, 19,  9, 19,  0,  4])}"
      ]
     },
     "execution_count": 40,
     "metadata": {},
     "output_type": "execute_result"
    }
   ],
   "source": [
    "sample_dict"
   ]
  },
  {
   "cell_type": "code",
   "execution_count": 33,
   "metadata": {},
   "outputs": [],
   "source": [
    "news, adjacency = construct_jaccard(sample_dict)"
   ]
  },
  {
   "cell_type": "code",
   "execution_count": 43,
   "metadata": {},
   "outputs": [],
   "source": [
    "results = embed(adjacency)"
   ]
  },
  {
   "cell_type": "code",
   "execution_count": 49,
   "metadata": {},
   "outputs": [
    {
     "data": {
      "text/plain": [
       "<matplotlib.legend.Legend at 0x7f8134203750>"
      ]
     },
     "execution_count": 49,
     "metadata": {},
     "output_type": "execute_result"
    },
    {
     "data": {
      "image/png": "[encoded data removed]",
      "text/plain": [
       "<Figure size 432x288 with 1 Axes>"
      ]
     },
     "metadata": {
      "needs_background": "light"
     },
     "output_type": "display_data"
    }
   ],
   "source": [
    "for i in range(len(results)):\n",
    "    coord = results[i]\n",
    "    plt.scatter(*coord, label = news[i])\n",
    "plt.title('dimensional reduction of the graph')\n",
    "plt.legend()"
   ]
  },
  {
   "cell_type": "code",
   "execution_count": null,
   "metadata": {},
   "outputs": [],
   "source": []
  }
 ],
 "metadata": {
  "kernelspec": {
   "display_name": "Python 3",
   "language": "python",
   "name": "python3"
  },
  "language_info": {
   "codemirror_mode": {
    "name": "ipython",
    "version": 3
   },
   "file_extension": ".py",
   "mimetype": "text/x-python",
   "name": "python",
   "nbconvert_exporter": "python",
   "pygments_lexer": "ipython3",
   "version": "3.7.6"
  }
 },
 "nbformat": 4,
 "nbformat_minor": 4
}
