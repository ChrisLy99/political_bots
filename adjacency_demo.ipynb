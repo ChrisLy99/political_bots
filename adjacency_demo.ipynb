{
 "cells": [
  {
   "cell_type": "code",
   "execution_count": 1,
   "metadata": {},
   "outputs": [],
   "source": [
    "from src.similarity import *\n",
    "import pandas as pd\n",
    "import json\n",
    "import matplotlib.pyplot as plt\n",
    "%load_ext autoreload\n",
    "%autoreload 2\n",
    "%matplotlib inline"
   ]
  },
  {
   "cell_type": "markdown",
   "metadata": {},
   "source": [
    "normalization: ignores frequency  \n",
    "uncasing: ignores spelling(least meaningful)  \n",
    "filter: ignores \"neutral\" hashtags\n"
   ]
  },
  {
   "cell_type": "code",
   "execution_count": 2,
   "metadata": {},
   "outputs": [],
   "source": [
    "users_fp = '../q2_data/news/'"
   ]
  },
  {
   "cell_type": "code",
   "execution_count": 3,
   "metadata": {},
   "outputs": [],
   "source": [
    "vector = pd.read_json('vector.json', typ = 'series')"
   ]
  },
  {
   "cell_type": "code",
   "execution_count": 4,
   "metadata": {},
   "outputs": [
    {
     "data": {
      "text/plain": [
       "COVID19    1710\n",
       "Trump      1601\n",
       "dtype: int64"
      ]
     },
     "execution_count": 4,
     "metadata": {},
     "output_type": "execute_result"
    }
   ],
   "source": [
    "vector.head(2)"
   ]
  },
  {
   "cell_type": "code",
   "execution_count": 5,
   "metadata": {},
   "outputs": [],
   "source": [
    "config = json.load(open('config/vector_compile.json'))\n",
    "kws = config['keywords']\n",
    "save_path = config['save_path']\n",
    "vector_fp = config['vector_fp']\n",
    "user_fp = config['users_fp']"
   ]
  },
  {
   "cell_type": "code",
   "execution_count": 6,
   "metadata": {
    "scrolled": true
   },
   "outputs": [
    {
     "name": "stdout",
     "output_type": "stream",
     "text": [
      "uncasing hashtags\n",
      "normalizing hashtags\n",
      "../q2_data/news/RT_America_500_users.jsonl\n",
      "in subsample\n",
      "in count_features\n",
      "in method\n",
      "preparing reader....!\n",
      "reader ready\n",
      "finished calculating hashtag counts\n",
      "vc shape (81724,)\n",
      "../q2_data/news/CNN_500_users.jsonl\n",
      "in subsample\n",
      "in count_features\n",
      "in method\n",
      "preparing reader....!\n",
      "reader ready\n",
      "finished calculating hashtag counts\n",
      "vc shape (68979,)\n",
      "../q2_data/news/BBCWorld_500_users.jsonl\n",
      "in subsample\n",
      "in count_features\n",
      "in method\n",
      "preparing reader....!\n",
      "reader ready\n",
      "finished calculating hashtag counts\n",
      "vc shape (80872,)\n",
      "../q2_data/news/washingtonpost_500_users.jsonl\n",
      "in subsample\n",
      "in count_features\n",
      "in method\n",
      "preparing reader....!\n",
      "reader ready\n",
      "finished calculating hashtag counts\n",
      "vc shape (67448,)\n",
      "../q2_data/news/MSNBC_500_users.jsonl\n",
      "in subsample\n",
      "in count_features\n",
      "in method\n",
      "preparing reader....!\n",
      "reader ready\n",
      "finished calculating hashtag counts\n",
      "vc shape (58650,)\n",
      "../q2_data/news/nytimes_500_users.jsonl\n",
      "in subsample\n",
      "in count_features\n",
      "in method\n",
      "preparing reader....!\n",
      "reader ready\n",
      "finished calculating hashtag counts\n",
      "vc shape (78082,)\n",
      "../q2_data/news/CBSNews_500_users.jsonl\n",
      "in subsample\n",
      "in count_features\n",
      "in method\n",
      "preparing reader....!\n",
      "reader ready\n",
      "finished calculating hashtag counts\n",
      "vc shape (77092,)\n",
      "../q2_data/news/FoxNews_500_users.jsonl\n",
      "in subsample\n",
      "in count_features\n",
      "in method\n",
      "preparing reader....!\n",
      "reader ready\n",
      "finished calculating hashtag counts\n",
      "vc shape (56900,)\n",
      "../q2_data/news/BreitbartNews_500_users.jsonl\n",
      "in subsample\n",
      "in count_features\n",
      "in method\n",
      "preparing reader....!\n",
      "reader ready\n",
      "finished calculating hashtag counts\n",
      "vc shape (29746,)\n"
     ]
    },
    {
     "data": {
      "image/png": "[encoded data removed]",
      "text/plain": [
       "<Figure size 432x288 with 1 Axes>"
      ]
     },
     "metadata": {
      "needs_background": "light"
     },
     "output_type": "display_data"
    }
   ],
   "source": [
    "plot_embedding(users_fp, vector, save_path)"
   ]
  },
  {
   "cell_type": "code",
   "execution_count": null,
   "metadata": {},
   "outputs": [],
   "source": []
  }
 ],
 "metadata": {
  "kernelspec": {
   "display_name": "Python 3",
   "language": "python",
   "name": "python3"
  },
  "language_info": {
   "codemirror_mode": {
    "name": "ipython",
    "version": 3
   },
   "file_extension": ".py",
   "mimetype": "text/x-python",
   "name": "python",
   "nbconvert_exporter": "python",
   "pygments_lexer": "ipython3",
   "version": "3.7.6"
  }
 },
 "nbformat": 4,
 "nbformat_minor": 4
}
