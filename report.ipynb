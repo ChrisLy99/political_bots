{
 "cells": [
  {
   "cell_type": "markdown",
   "metadata": {},
   "source": [
    "# Political Polarization of Major News Networks on Twitter"
   ]
  },
  {
   "cell_type": "markdown",
   "metadata": {},
   "source": [
    "# Abstract\n",
    "We will analyze the users who interact with the Twitter accounts of various popular news networks to compare their alignment across the U.S. political spectrum. We will be collecting hashtags used in the users' home timelines to classify their political stance as well as create a graph analysis between the news networks as a whole. Through this, we demonstrate the location where each news network lies on the U.S. political spectrum and how they lie relative in hashtag vector space to one another."
   ]
  },
  {
   "cell_type": "markdown",
   "metadata": {},
   "source": [
    "# Introduction\n",
    "Factual reporting is critical to the education of the general public on not only regular news, but more importantly to provide information paramount to understanding and interpreting the political atmosphere. Major news outlets have always played a key role in delivering important news and information to the public in a predictable and concise manner tailored to their viewers. As a result of this conformation to the preferences of their respective audiences, many news networks have developed a tendency to report news with a bias in various aspects of reporting; most notably, the most prevalent defining characteristic of a news network is its political affiliation. This often leads to skewed information motivated by viewership and rating results. This bias in reporting can often lead to creating confirmation bias in viewers who already agree with the sentiments being reported. \n",
    "\n",
    "An example of the bipartisan split in television news networks can be seen in the contrast between CNN and Fox news. CNN is widely considered to be a left-leaning or democratic organization, while Fox is catered to a republican audience. This polarization of news is often criticized as furthering the tunnel vision in viewers by only showing them what they already agree with. Similar to “echo chambers” in The Spread of Misinformation Online, Vicario et al.[1], this action of reporting biased news creates isolated communities of viewers where information is often circulated within their own groups. \n",
    "\n",
    "Although most news media outlets already have a pretty well defined political alignment, our analysis will involve further verifying this classification and comparing these news stations on different spectrums other than political affiliation. The question we want to answer is whether or not the users who actively interact with various news outlets conform directly to the political viewpoint of the outlet. Our goal in this project is to quantify the political inclination (pro-democrat vs pro-republic) on the users of eight news stations. In other words, we want to construct a political spectrum and see how these new stations fall on the spectrum.\n",
    "\n"
   ]
  },
  {
   "cell_type": "markdown",
   "metadata": {},
   "source": [
    "# Data\n",
    "## Collection\n",
    "Through use of the Twitter API, we are able to gather any data that was made publicly available on the Twitter platform. Per the terms of this API, we are unable to access any tweet that is protected by a private account or has been deleted. Although we are collecting tweet data from individual users, we will only be analyzing aggregated values from hashtags and will not be releasing any individual data points.\n",
    "\n",
    "The eight news stations we chose were BBCWorld, BreitbartNews, CBS, CNN, FoxNews, MSNBC, RT_America, nytimes, and washingtonpost. We decided on these accounts as they are all relatively well-known and we wanted to have a sample of media outlets that were distributed along the political spectrum and therefore chose outlets that are left, neutral and right leaning. Since the goal of our project is to analyze the users that actively interact with each news station, we needed to gather a sizable sample of tweets to quantify the general trend of political affiliation. Our steps were as follows: sample the most recent tweets from each news outlet, gather all retweeters in each tweet, and then finally examine the retweeters by collecting the counts of hashtags used in each retweeter’s timeline.\n",
    "\n",
    "The main portion of our data collection process was gathering the users that actively interact with the Twitter accounts of major news stations. We looked at the most recent 100 posts from each news outlet and collected every retweet and subsequently every user who retweeted the post. After collecting these users, we randomly sampled 500 users from each news station and gathered the most recent 1000 tweets from each user’s timeline. If a user did not have 1000 tweets, we simply took their entire timeline. This resulted in a minimum of 400,000 tweets in our dataset as the average user has less than 1000 tweets, we assume that the average lies around 100 per user.\n",
    "\n",
    "From these tweets, we collected every hashtag used and took down the occurrence of each hashtag. To account for minor variations in hashtag spelling and syntax, we stored each hashtag in its lowercase form. Each news outlet now has a list of hashtags along with a mapping of the respective number of times used in a tweet. This information will be used as a hashtag vector in our graph analysis elaborated further in the methodology section.\n",
    "\n",
    "Our definition of a user that \"actively interacts\" with a news outlet is someone who has retweeted one of the outlet's tweets in the past 3 months. Although it may have been easier to collect users from the news outlets' follower lists, we wanted to ensure our users analyzed were active on their Twitter so that we can analyze how they interact with current political accounts and tweets.\n",
    "\n",
    "\n",
    "### An overview of followers and traditionally believed politcal alignment\n",
    "\n",
    "| News/Media Outlet | Number of Followers | Traditional Political Alignment |\n",
    "|-------------------|---------------------|---------------------------------|\n",
    "| FoxNews           | 20M                 | Towards Right                   |\n",
    "| BBCWorld          | 30.9M               | Middle                          |\n",
    "| MSNBC             | 4M                  | Middle Left                     |\n",
    "| CNN               | 52.6M               | Middle Left                     |\n",
    "| Washingtonpost    | 17.4M               | Towards Left                    |\n",
    "| CBSNews           | 8M                  | Middle Left                     |\n",
    "| nytimes           | 49.2M               | Towards Left                    |\n",
    "| RT_America        | 367.5K              | Unknown                         |\n",
    "| BreitBartNews     | 1.4M                | Far Right                       |\n",
    "\n",
    "Data sourced from https://guides.lib.umich.edu/c.php?g=637508&p=4462444\n",
    "\n",
    "\n",
    "## Collection\n",
    "Through use of the Twitter API, we are able to gather any data that was made publicly available on the Twitter platform. Per the terms of this API, we are unable to access any tweet that is protected by a private account or has been deleted. Although we are collecting tweet data from individual users, we will only be analyzing aggregated values from hashtags and will not be releasing any individual data points.\n",
    "\n",
    "The eight news stations we chose were BBCWorld, BreitbartNews, CBS, CNN, FoxNews, MSNBC, RT_America, nytimes, and washingtonpost. We decided on these accounts as they are all relatively well-known and we wanted to have a sample of media outlets that were distributed along the political spectrum and therefore chose outlets that are left, neutral and right leaning. Since the goal of our project is to analyze the users that actively interact with each news station, we needed to gather a sizable sample of tweets to quantify the general trend of political affiliation. Our steps were as follows: sample the most recent tweets from each news outlet, gather all retweeters in each tweet, and then finally examine the retweeters by collecting the counts of hashtags used in each retweeter’s timeline.\n",
    "\n",
    "The main portion of our data collection process was gathering the users that actively interact with the Twitter accounts of major news stations. We looked at the most recent 100 posts from each news outlet and collected every retweet and subsequently every user who retweeted the post. After collecting these users, we randomly sampled 500 users from each news station and gathered the most recent 1000 tweets from each user’s timeline. If a user did not have 1000 tweets, we simply took their entire timeline. \n",
    "\n",
    "From these tweets, we collected every hashtag used and took down the occurrence of each hashtag. To account for minor variations in hashtag spelling and syntax, we stored each hashtag in its lowercase form. Each news outlet now has a list of hashtags along with a mapping of the respective number of times used in a tweet. This information will be used as a hashtag vector in our graph analysis elaborated further in the methodology section.\n",
    "\n",
    "Our definition of a user that \"actively interacts\" with a news outlet is someone who has retweeted one of the outlet's tweets in the past 3 months. Although it may have been easier to collect users from the news outlets' follower lists, we wanted to ensure our users analyzed were active on their Twitter so that we can analyze how they interact with current political accounts and tweets.\n",
    "\n",
    "\n",
    "\n",
    "## Exploratory Data Analysis\n",
    "As the end goal of our project is to utilize hashtag usage for comparison of news outlets, we wanted to begin by looking at the most commonly used hashtags relative to each news outlet. We believed that the most noticeable difference in hashtag trends would be politically motivated as the traditional consensus is that these eight news outlets all have some sort of political affiliation or bias in their reporting, attracting users of the same political alignment.\n",
    "\n",
    "To do this, we looked to aggregate hashtag frequencies and compare the distributions across each news outlet. There were a few common hashtags found across all eight news stations such as variations of “covid-19” and “trump”. These words have relatively neutral meaning in terms of political leaning and therefore looked into the effect of removing them in our methodology.   \n",
    "\n",
    "Our first visualization was a \"Word Cloud\" designed to display the most popular hashtags used in each news outlet. We hypothesized that there will be a quantifiable difference in the hashtags used by users of each news outlet due to the difference in population of their active users. \n",
    "\n",
    "A brief glimpse into the figures below shows that there is indeed a noticeable difference in hashtag usage between users of each news outlet, more specifically with news outlets of differing political alignments.. We found that politically charged words are the most prevalent separation between each collection of hashtags.\n"
   ]
  },
  {
   "cell_type": "markdown",
   "metadata": {},
   "source": [
    "### Hashtag Counts of Various News Outlets\n",
    "#### Red == Generally More Conservative\n",
    "#### Blue == Generally More Liberal\n",
    "\n",
    "![gras](data/graphs/news/BBCWorld_hashtag_counts.png)\n",
    "![gras](data/graphs/news/BreitbartNews_hashtag_counts.png)\n",
    "![gras](data/graphs/news/CBSNews_hashtag_counts.png)\n",
    "![gras](data/graphs/news/CNN_hashtag_counts.png)\n",
    "![gras](data/graphs/news/FoxNews_hashtag_counts.png)\n",
    "![gras](data/graphs/news/MSNBC_hashtag_counts.png)\n",
    "![gras](data/graphs/news/NYTimes_hashtag_counts.png)\n",
    "![gras](data/graphs/news/RTAmerica_hashtag_counts.png)"
   ]
  },
  {
   "cell_type": "markdown",
   "metadata": {},
   "source": [
    "# Related Literature\n",
    "\n",
    "Predicting the political alignment of users on social media has always been a topic of interest for many scholars and institutions to research. As social media grows in popularity, more and more users will begin to upload information about their personal lives, and oftentimes their political beliefs, into the public domain for others to interact with. With this ever growing plethora of information, many new approaches have been developed to better understand the characteristics of US voters as opposed to traditional census and polling practices. While our project focuses exclusively on analyzing the hashtag usage of our gathered users compared to an existing dataset of election related tweets, there are many other publications that investigate a user’s actions in more detail.\n",
    "\n",
    "In <em>Predicting the Political Alignment of Twitter Users</em>, Conover, Goncalves, Ratkiewics, Flammini and Menczer demonstrated several implementations of predicting the political stance of a Twitter user based on their tweets. The paper utilized the hashtags and tweet text to build a machine learning model for predicting a user’s political stance. In a SVM model, the researchers were able to achieve a higher accuracy through metadata on hashtags versus tweet text. This coinsigns with our hypothesis that hashtags will provide the best viable separation in how users display their political stance. Their analysis also showed clear clusters that represented the two respective political groups, republicans and democrats. Whereas the researchers defined the political stance of hashtags through Latent Semantic Analysis to discover political affiliation of hashtags, our group will be plotting the hashtag vectors of each news outlet as a whole to demonstrate the differences of news outlets in terms of vector space."
   ]
  },
  {
   "cell_type": "markdown",
   "metadata": {},
   "source": [
    "# Methodology\n",
    "\n",
    " We are adopting an unsupervised approach towards quantifying the term political spectrum. In short, we plan to construct a complete graph among the news stations - where the nodes are our news stations in question and the edges are weighted by some similarity measure between every pair of news stations - and maps the graph onto the euclidean space through graph embedding. The resultant plot - of the nodes lying in the euclidean space  (1-D or otherwise) in a fashion relative to their pairwise similarity - and the analysis of which would be the main answer to our research question. \n",
    "\n",
    "The question then largely boils down to the definition of similarity between news stations. We formally define the concept of similarity between two news stations to be the $$1 - \\frac{\\Sigma\\min(X_{1i}X_{2i})}{\\Sigma\\max(X_{1i}X_{2i})}$$ where $$X_{1i}$$ and $$X_{2i}$$ are vectors of hashtag occurrences constructed from the timeline of users who recently retweeted news from the corresponding news station. To make the hashtags political in nature, the hashtag vectors are all subsampled under the same feature space as that obtained from the election dataset. In other words, we record every hashtag that occurred in the election dataset, and count the total occurrences of these hashtags in the timelines of users that interacted with each news station. For every pair of hashtag vectors constructed in this manner, where every element corresponds to the occurrence of a hashtag in a fixed hashtag space, the similarity is calculated according to the above formulation and the resultant value is assigned as the weight to the edges among nodes. \n",
    "\n",
    "To recap we define the position of news stations in a political spectrum as their relative position in euclidean space embedded from a graph that stores the similarity, characterized as a function of two vectors of hashtags under the same feature space, as edge weights between vertices. There are a few advantages and disadvantages ostensible upon its conception. \n",
    "\n",
    "The advantages is that the definition of political spectrum is free of heuristics and thus bias. Unlike the project replication done last quarter, we do not preconceptually determine what hashtags implies what semantic meaning under the political context but rather let the occurrence and absence of vectors capture what it means to be politically similar by themselves. Additionally, the method of quantification transforms the similarity in ideology between two sets of tweets in a bounded manner (between 0 and 1) and does not necessitate skewing in the distribution of values. \n",
    "\n",
    "On the other hand, some caveats are equally worth noting. The first of which is that an extremely popular hashtag could skew the results. Trivializing the difference in pairwise similarity among pairs of news stations. Secondly, though we are not introducing biases in the procedure in methods, the formulation of the methods rides on one crucial presupposition - that tweets with hashtags are sufficiently representative of tweets in general, with or without hashtags. Last but not least, due to the nuance in semantics in human language in general, some hashtags were brought up to promote a point while others were points brought up to be criticized. In other words, we are assuming, amidst the hodgepodge form of interactions on twitter among users, that the hashtag space is sufficient for representing a user’s, and subsequently the news station’s, political stance.\n",
    "\n",
    "To account for these considerations, we will construct two (or potentially three) types of hashtag vectors. The first is the raw count of occurrences of every hashtag in the feature space. The second is the normalized vector (every element between 0 and 1 and sums up to 1) of the occurrences. The potential third vector would be occurrences constructed from only original tweets, precluding retweets. These three types of vector would hopefully help us understand and reduce the effect of skewing, and complexity in tweet interactions. \n",
    "\n",
    "\n"
   ]
  },
  {
   "cell_type": "markdown",
   "metadata": {},
   "source": [
    "# Results\n",
    "\n"
    "To account for these considerations, we will construct two (or potentially three) types of hashtag vectors. The first is the raw count of occurrences of every hashtag in the feature space. The second is the normalized vector (every element between 0 and 1 and sums up to 1) of the occurrences. The potential third vector would be occurrences constructed from only original tweets, precluding retweets. These three types of vector would hopefully help us understand and reduce the effect of skewing, and complexity in tweet interactions. \n"
   ]
  },
  {
   "cell_type": "markdown",
   "metadata": {},
   "source": [
    "# Conclusions"
    "# Appendix\n",
    "\n",
    "## Project Proposal\n",
    "\n",
    "##### Introduction\n",
    "\n",
    "The Internet paved the way for easy access to information and communication with others. Although it has contributed to ease of access to a wealth of knowledge, it has also led to a dark web of conspiracy theories and faulty information. Another product of the Internet is social media and the desire of online presence allowing a hyperconnected world. Plenty of people rely on social media as a source of daily news and there is a vast information overload to process and sift through for accurate and reliable information. The presence of misinformation online is a widespread problem. But while misinformation is a dire problem on its own, the effects of the mass spread that online bots feed into is even more dangerous. Bots are easily mass produced and threaten to outnumber real humans in social media having greater influence over the type of information that spreads. \n",
    "\n",
    "In the United States election in 2016, there was a flood of misinformation spread by bots on Twitter and other social media. The malicious use of bots is an ongoing problem. And with the recent election, the effects of misinformation spread by both bots and humans has essentially reduced the integrity of an entire democracy. In this project, we’ll be focusing on the political stance of people who interact with bots with the goal of understanding the nuances of how bots are effective in spreading misinformation as well as identifying who are more susceptible to the lies of bots.\n",
    "Relevance\n",
    "\n",
    "The domain replication project partially addressed a portion of this issue of misinformation by demonstrating the existence of “echo chambers” in social media communities. This prevalence of echo chambers revealed that community members often only interact with information if they already somewhat agree with the ideology presented to them. With bots on social media, we hypothesize that users who already agree with the general agenda spread by these fake accounts will be more susceptible to their influence. This hypothesis will be tested and should prove to be relevant to the baseline process in the replication.\n",
    "    \n",
    "A Duke University research article Assessing the Russian Internet Research Agency’s impact on the political attitudes and behaviors of American Twitter users in late 2017 has attempted to answer a similar question on the impact of Russia on American Twitter users in the year following the election and employed methods of sampling and surveying users directly to measure influence. They concluded based on these interviews that the Russian Trolls were not very impactful in the overall population; they believed the fake accounts were only able to garner the attention of already polarized users. Where this group sought to gather results from a group of 1,000 volunteers that may or may not have been involved with the “Russian Trolls”, we hope that collecting information on all accounts that directly interacted with the accounts will prove to be more insightful and provide a more significant conclusion.\n",
    "    \n",
    "Although our result replication project has proven to be a very thorough investigation into polarization in social media on modern social issues, we are aiming to improve upon the investigatory process. We believe the polarization metric used to define a Twitter user did not accurately reflect the spectrum of where the user lied on a social issue. Users who leaned more towards science had values bound very closely to zero and users who interacted more with conspiracy tweets had almost unbounded growth potential. This was evident when we plotted the values; science believers were clustered at 0, while the others were scattered across a long tail towards infinity. We hope that our investigation will be able to develop a normalization formula that will more accurately gauge the polarity of a user.\n",
    "    \n",
    "##### Methodology\n",
    "\n",
    "The key component to all of our analytical goals in the project is the quantification of the user's political inclination. In order to calculate the political inclination of individuals who interacted with the russian bots we need to have a grasp on what the spectrum is from the US election dataset. To obtain the political inclination, we would compare some statistical norm, currently expected to be about hashtags, between tweets made by the users who interacted with the russian bots and the tweets from the US election tweet dataset. More specifically, we would most likely construct a value to measure how likely is for one to be a democrat and a value for one being republican, the political inclination would be a function of these two values. Regardless of our exact mathematical formulation of the score, we would most likely need to construct a set of benchmarking hashtags that almost 100% indicates an inclination towards one end of the political spectrum. For our replication project we do so through arbitrary selection, I believe in our q2 project we can have a more methodical approach - since many prospective voters on twitter have tweets replying directly to the presidential candidate. We can use this clearly opinionated action to subset the dataset meaningfully this way and filter hashtags from there. \n",
    "\n",
    "Though the mathematical definition of political inclination for a user is yet to be defined, we have a couple of expectations towards the score metrics learned from our result replication: it is likely based on some statistics of the hashtags (as mentioned above) or variables independent from the user and it ideally should be a mathematical transformation bounded between -1 and 1. Our current project replication has an unbounded range of values for the metrics used to measure user’s polarity, resulting in a failure to group together users in terms of distributions even though they are all users of sufficiently high polarity. With the political inclination calculated for each retweeters of a tweet from Russian bots, we are able to visualize the distribution of inclinations. The echo chamber can be defined as clusters not centered around inclination scores around 0.\n",
    "\n",
    "##### Project Output\n",
    "\n",
    "We expect to produce two types of outputs for our project, a report similar in fashion to a research paper for the technical audience as well as a website for a broader audience (we’re still currently debating on whether to make the website, ). The report would cover everything from introduction to methodology to statistical analysis while the webpage would be more succinct and much more watered down in the technical aspect. \n",
    "    \n",
    "##### Data Description/EDA\n",
    "\n",
    "There will mainly be two datasets used in our investigation. A datasets for tweet ids of election-related tweets collected between march to November (estimated to be about 5GB once rehydrated). Currently we plan to quantify political inclination based on hashtags, a good sign is that many hashtags used here are quite telling of the inclination of blue vs red (such as #minimike, #bluenomatterwho, #yanggang). \n",
    "\n",
    "Regarding the possibility of being able to define the set of referential hashtags more methodically (and more laboriously) and less arbitrarily is also supported by the overview of the data. For one day worth of tweets on March 1st there are 6645 retweets specifically retweeting biden and trump.  For the hashtags of tweets only retweeting trump, the top3 are shown below. \n",
    "\n",
    "The day is a bit special due to the then ongoing CPAC. The hashtags CPAC and KAG2020 are self explanatory. TdLombardExpress, after some research, seems to be the hashtag used by a quite influential pro-conservative twitter account. From here we would have the options to go into tdlombard’s twitter timeline to look for other meaningful hashtags. \n",
    "\n",
    "In short our data seems to store a house of meaningful information(hashtags) and support a more methodical investigation on hashtag meaningfulness. \n",
    "\n",
    "\n",
    "\n",
    "\n",
    "Works Cited:\n",
    "Bail, Christopher A., et al. “Assessing the Russian Internet Research Agency's Impact on the Political Attitudes and Behaviors of American Twitter Users in Late 2017.” PNAS, National Academy of Sciences, 7 Jan. 2020, www.pnas.org/content/117/1/243. \n",
    "Datasets:\n",
    "\thttps://github.com/fivethirtyeight/russian-troll-tweets\n",
    "https://github.com/echen102/us-pres-elections-2020\n",
    "\n"
   ]
  },
  {
   "cell_type": "code",
   "execution_count": null,
   "metadata": {},
   "outputs": [],
   "source": []
  }
 ],
 "metadata": {
  "kernelspec": {
   "display_name": "Python 3",
   "language": "python",
   "name": "python3"
  },
  "language_info": {
   "codemirror_mode": {
    "name": "ipython",
    "version": 3
   },
   "file_extension": ".py",
   "mimetype": "text/x-python",
   "name": "python",
   "nbconvert_exporter": "python",
   "pygments_lexer": "ipython3",
   "version": "3.8.5"
  }
 },
 "nbformat": 4,
 "nbformat_minor": 2
}
